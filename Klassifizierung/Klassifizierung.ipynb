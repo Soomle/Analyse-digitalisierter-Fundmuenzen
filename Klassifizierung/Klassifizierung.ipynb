{
  "nbformat": 4,
  "nbformat_minor": 0,
  "metadata": {
    "colab": {
      "provenance": []
    },
    "kernelspec": {
      "name": "python3",
      "display_name": "Python 3"
    },
    "language_info": {
      "name": "python"
    }
  },
  "cells": [
    {
      "cell_type": "code",
      "execution_count": 1,
      "metadata": {
        "id": "vqBhbldFXLns",
        "outputId": "f72d1c56-6509-473d-bc45-4632147da082",
        "colab": {
          "base_uri": "https://localhost:8080/",
          "height": 141
        }
      },
      "outputs": [
        {
          "output_type": "error",
          "ename": "IndentationError",
          "evalue": "expected an indented block after 'for' statement on line 36 (<ipython-input-1-f7a04f6dbefc>, line 39)",
          "traceback": [
            "\u001b[0;36m  File \u001b[0;32m\"<ipython-input-1-f7a04f6dbefc>\"\u001b[0;36m, line \u001b[0;32m39\u001b[0m\n\u001b[0;31m    features = np.array(features)\u001b[0m\n\u001b[0m    ^\u001b[0m\n\u001b[0;31mIndentationError\u001b[0m\u001b[0;31m:\u001b[0m expected an indented block after 'for' statement on line 36\n"
          ]
        }
      ],
      "source": [
        "import cv2\n",
        "import numpy as np\n",
        "import zipfile\n",
        "import os\n",
        "from tensorflow.keras.applications.vgg16 import VGG16, preprocess_input\n",
        "from sklearn.model_selection import train_test_split\n",
        "from tensorflow.keras.models import Sequential\n",
        "from tensorflow.keras.layers import Dense, Flatten\n",
        "from sklearn.preprocessing import LabelEncoder\n",
        "import matplotlib.pyplot as plt\n",
        "from google.colab import files\n",
        "\n",
        "# Hochladen der ZIP-Dateien und Entpacken\n",
        "uploaded = files.upload()\n",
        "for zip_file in uploaded.keys():\n",
        "    with zipfile.ZipFile(zip_file, 'r') as zip_ref:\n",
        "        zip_ref.extractall('images')\n",
        "\n",
        "# Initialisieren des VGG16-Modells\n",
        "model = VGG16(weights='imagenet', include_top=False)\n",
        "\n",
        "# [Code zur Bildverarbeitung und Feature-Erkundung]\n",
        "\n",
        "# Vorbereitung der Bilddaten und Labels\n",
        "image_paths = []\n",
        "labels = []\n",
        "\n",
        "for folder_name in os.listdir('images'):\n",
        "    folder_path = os.path.join('images', folder_name)\n",
        "    for image_name in os.listdir(folder_path):\n",
        "        image_paths.append(os.path.join(folder_path, image_name))\n",
        "        labels.append(folder_name)  # Der Ordnername wird als Label verwendet\n",
        "\n",
        "# Feature-Extraktion und Label-Encoding\n",
        "features = []\n",
        "for img_path in image_paths:\n",
        "    # [Feature-Extraktion wie zuvor]\n",
        "\n",
        "features = np.array(features)\n",
        "label_encoder = LabelEncoder()\n",
        "labels_encoded = label_encoder.fit_transform(labels)\n",
        "\n",
        "# [Trainings- und Evaluierungscode wie zuvor]\n"
      ]
    }
  ]
}
